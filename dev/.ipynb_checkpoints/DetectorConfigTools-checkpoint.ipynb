{
 "cells": [
  {
   "cell_type": "code",
   "execution_count": 1,
   "id": "6fb8cf34-174b-4f2a-83a0-d764664bcdcc",
   "metadata": {
    "tags": []
   },
   "outputs": [],
   "source": [
    "import yaml"
   ]
  },
  {
   "cell_type": "code",
   "execution_count": null,
   "id": "bc9a9751-1a4e-466c-9e8c-0f6f881d4b12",
   "metadata": {},
   "outputs": [],
   "source": [
    "class detector_config:\n",
    "    \n",
    "    def __init__(self, file_path)\n",
    "        with open(file_path, 'r') as f:\n",
    "            self.content = yaml.safe_load(file_path)\n",
    "            self.file_path = file_path\n",
    "    \n",
    "    def get_elem(self, key_path):\n",
    "        \n",
    "        path = key_path.split(\".\")\n",
    "        curr_path = \"\"\n",
    "        curr_node = self.content\n",
    "        #Traverse tree until node that contains elem is reached.\n",
    "        for key in path:\n",
    "            if (key not in curr_node.keys()):\n",
    "                raise Exception(curr_path + \" not found)\n",
    "            else:\n",
    "                curr_node = curr_node[key]\n",
    "                \n",
    "        #Return value of found node.\n",
    "        return curr_node\n",
    "            \n",
    "                                \n",
    "    def set_elem(self, key_path, elem):\n",
    "        path = key_path.split(\".\")\n",
    "        curr_path = \"\"\n",
    "        curr_node = self.content\n",
    "        #Traverse tree until the parent node of the desired elem is reached.\n",
    "        for key in path[-1]:\n",
    "            if (key not in curr_node.keys()):\n",
    "                raise Exception(curr_path + \" not found)\n",
    "            else:\n",
    "                curr_node = curr_node[key]\n",
    "                \n",
    "        #Set value at desired path\n",
    "        curr_node[path[-1]] = elem\n",
    "                                \n",
    "    def add_elem(self, key_path, elem):\n",
    "        path = key_path.split(\".\")\n",
    "        curr_path = \"\"\n",
    "        curr_node = self.content\n",
    "        #Traverse tree until parent node of the desired elem is reached.\n",
    "        for key in path[-1]:\n",
    "            if (key not in curr_node.keys()):\n",
    "                raise Exception(curr_path + \" not found)\n",
    "            else:\n",
    "                curr_node = curr_node[key]\n",
    "                \n",
    "        #Set value at desired path\n",
    "        curr_node.append(elem)\n",
    "                                \n",
    "    def save_as(self, new_filepath):\n",
    "        \n",
    "        with open(new_filepath, 'w') as writeable:\n",
    "            yaml.dump(content, writeable)\n",
    "        \n",
    "    def save(self):\n",
    "        self.save_as(self.file_path)\n",
    "        \n",
    "                                              "
   ]
  }
 ],
 "metadata": {
  "kernelspec": {
   "display_name": "NERSC Python",
   "language": "python",
   "name": "python3"
  },
  "language_info": {
   "codemirror_mode": {
    "name": "ipython",
    "version": 3
   },
   "file_extension": ".py",
   "mimetype": "text/x-python",
   "name": "python",
   "nbconvert_exporter": "python",
   "pygments_lexer": "ipython3",
   "version": "3.11.7"
  }
 },
 "nbformat": 4,
 "nbformat_minor": 5
}
